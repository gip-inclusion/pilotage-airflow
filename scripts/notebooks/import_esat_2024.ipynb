{
 "cells": [
  {
   "cell_type": "markdown",
   "id": "8a932358",
   "metadata": {},
   "source": [
    "# Infos connexion bdd"
   ]
  },
  {
   "cell_type": "code",
   "execution_count": 1,
   "id": "36421d60",
   "metadata": {
    "scrolled": true
   },
   "outputs": [],
   "source": [
    "#connexion a la db\n",
    "from sqlalchemy import create_engine\n",
    "\n",
    "from flask_sqlalchemy import SQLAlchemy\n",
    "import sqlalchemy\n",
    " \n",
    "\n",
    "\n",
    "import numpy as np\n",
    "import pandas as pd\n",
    "#Filter all warnings \n",
    "import warnings\n",
    "warnings.filterwarnings('ignore')"
   ]
  },
  {
   "cell_type": "markdown",
   "id": "68b30c2d",
   "metadata": {},
   "source": [
    "# Chargement et export des csvv"
   ]
  },
  {
   "cell_type": "code",
   "execution_count": 2,
   "id": "40f2e0a7",
   "metadata": {},
   "outputs": [],
   "source": [
    "df = pd.read_csv(\"Questionnaire_2024_sur_les_actions_mises_en_oeuvre_en_2023_-_suivi_du_plan_de_transformation_des_ESAT_Submissions_2024-08-07.csv\")\n"
   ]
  },
  {
   "cell_type": "markdown",
   "id": "c3aa98fa",
   "metadata": {},
   "source": [
    "# Drop colonnes inutiles et renommage colonnes"
   ]
  },
  {
   "cell_type": "code",
   "execution_count": 3,
   "id": "e69339e7",
   "metadata": {},
   "outputs": [],
   "source": [
    "#Colonnes avec identifiants et données tally\n",
    "df = df.drop(df.columns[:3], axis=1)\n",
    "#Colonnes à retirer correspondant au questionnaire envoyé au premier testeur et modifié depuis + ligne du testeur à retirer\n",
    "df = df.iloc[:, :128]\n",
    "df = df.drop(df.index[0])\n",
    "#Colonnes doublon inutiles crées par Tally lors des QCM\n",
    "columnstodrop = [28,29,30,31,40,41,42,43,44,51,52,53,54,55,56,66,67,68,69,72,73,74,75,76,77,78,79,108,109,110,111,112]\n",
    "dfdropped = df.drop(df.columns[columnstodrop], axis = 1)\n",
    "dffinal = dfdropped.reset_index(drop=True)"
   ]
  },
  {
   "cell_type": "code",
   "execution_count": 4,
   "id": "35a86309",
   "metadata": {},
   "outputs": [],
   "source": [
    "columns = ['Prénom', 'Nom', 'Email', 'Fonction', 'ESAT', 'SIRET', 'FINESS', 'Organisme gestionnaire','ESAT public', 'Region', 'Département', 'Nombre de salariés en droit commun', \n",
    "           'Nombre de travailleurs accompagnés', 'Age moyen des travailleurs', \n",
    "           'Ancienneté moyenne des travailleurs', 'Nombre de travailleurs en temps partiel', \n",
    "           'Places autorisées par ARS', 'Nombre de travailleurs ayant occupé un emploi en milieu ordinaire avant ESAT', \n",
    "           'Nombre de travailleurs étant en ESAT pour la 1ere fois', 'Nombre de travailleurs admis temporairement en remplacement', 'Nombre de travailleurs voulant sortir du milieu protégé', \n",
    "           'Nombre de travailleurs inscrits comme DE à France travail', 'Nombre de personnes accueillies dans le cadre de MISPE', 'Refus de PMSMP par des organismes du SPE', \n",
    "           'Nombre de travailleurs ayant effectué une PMSMP', 'Nombre de travailleurs ayant réalisé une prestation pour une entreprise', 'Nombre de travailleurs ayant réalisé une MAD', 'Activités hors les murs réalisées par les travailleurs',\n",
    "           'Pourcentage du temps de travail hors les murs', 'Nombre de travailleurs ayant cumulé entreprise adaptée et temps partiel ESAT', 'Nombre de travailleurs ayant cumulé  milieu ordinaire et temps partiel ESAT', 'Nombre de travailleurs partis pour entreprise adaptée', \n",
    "           'Nombre de travailleurs partis pour le public', 'Nombre de travailleurs partis pour le privé', 'Nombre de travailleurs partis pour association', 'Milieux dans lesquels sont les travailleurs partis',\n",
    "           'Nombre de travailleurs partis avec CDI', 'Nombre de travailleurs partis avec CDD', \n",
    "           'Nombre de travailleurs partis avec interim', 'Nombre de travailleurs partis avec contrat pro', 'Nombre de travailleurs partis avec contrat apprentissage', 'Type de contrat des travailleurs partis',\n",
    "           'Nombre de travailleurs réintégrés après emploi hors ESAT', \"Nombre de conventions appui\", 'Nombre heures de soutien par travailleur', 'Contribution OPCO ou OPCA', \n",
    "           'Thématiques de formation', 'Actions conduite pour départ à la retraite', \n",
    "           'Nombre de travailleurs ayant bénéficié dispositif UAAT', 'Taux de contribution Opco santé ou ANFH', 'Types de formations dont ont benéficié les travailleurs pour developpement de compétences', 'Nombre de travailleurs ayant bénéficié de RAE ou RSFP','Suite de parcours après reconnaissance', 'Refus de financement OPCO Santé ou ANFH',  \n",
    "           'Nombre de travailleurs sans utilisation CPF','Formation la plus choisie dans le cadre du CPF',\n",
    "            'Nombre de travailleurs ayant bénéficié formation par salariés ESAT', 'Type de formation ESAT', 'Mise en place formation auto sensilibisation',\n",
    "            'Nombre de travailleurs ayant bénéficié formation auto sensibilisation', \n",
    "           'Mise en place formation auto sensibilisation par un organisme de formation?',  \n",
    "           'Mise en place carnet de parcours et compétence', 'Utilisation logiciel pour mise en place du carnet', 'Nom logiciel', 'Aide financiere pour la mise en place du carnet', 'Type aide financière pour carnet', 'Mise en place documents pour travailleurs en FALC', \n",
    "            'Délégué élu', 'Formation du délégué', \n",
    "           'Instance mixte QVT', 'Montant moyen prime interessement des travailleurs', 'Montant moyen PPV', 'Pourcentage de rémunération du travailleur pris en charge par ESAT', \n",
    "           'Prime activité pour travailleurs','Complémentaire santé', 'Pourcentage financement complémentaire santé ESAT', 'Cout annuel par travailleur contribution complementaire sante', 'Régime de prévoyance', \n",
    "           'Année commencement prévoyance', 'Nombre de travailleurs ayant travaillé un dimanche', \n",
    "           'Conventions partenariat', 'Nombre entreprises avec convention de partenariat',\n",
    "           'Nombre de conseillers insertion et inclusion', 'Montant du CA total', 'Budget commercial', 'Montant déficit commercial', 'Montant excédent commercial', \n",
    "           'Pourcentage du CA avec secteur public', 'Budget activité sociale', 'Excédent activité sociale', 'Déficit activité sociale', 'Montant investissement mise aux normes sécurité accessibilité', 'Montant investissement production', 'Montant soutien FATESAT', 'Montant soutien UE / fonds structurel', 'Commentaires']\n",
    "dffinal.columns = columns"
   ]
  },
  {
   "cell_type": "markdown",
   "id": "b6a3a5eb",
   "metadata": {},
   "source": [
    "# Nettoyer les données 'NSP' et les entrées absurdes"
   ]
  },
  {
   "cell_type": "code",
   "execution_count": 5,
   "id": "913b7f63-75cf-47be-8e5f-dd5fb4ad857f",
   "metadata": {},
   "outputs": [],
   "source": [
    "dffinal['Ancienneté moyenne des travailleurs'] = dffinal['Ancienneté moyenne des travailleurs'].apply(lambda x: np.nan if x > 20 else x)\n",
    "dffinal['Nombre de travailleurs en temps partiel'] = dffinal['Nombre de travailleurs en temps partiel'].apply(lambda x: np.nan if x > 9989 else x)\n",
    "dffinal['Nombre de travailleurs ayant occupé un emploi en milieu ordinaire avant ESAT'] = dffinal['Nombre de travailleurs ayant occupé un emploi en milieu ordinaire avant ESAT'].apply(lambda x: np.nan if x > 9989 else x)\n",
    "dffinal['Nombre de travailleurs étant en ESAT pour la 1ere fois'] = dffinal['Nombre de travailleurs étant en ESAT pour la 1ere fois'].apply(lambda x: np.nan if x > 9989 else x)\n",
    "dffinal['Nombre de travailleurs inscrits comme DE à France travail'] = dffinal['Nombre de travailleurs inscrits comme DE à France travail'].apply(lambda x: np.nan if x > 9989 else x)\n",
    "dffinal['Pourcentage du temps de travail hors les murs'] = dffinal['Pourcentage du temps de travail hors les murs'].apply(lambda x: np.nan if x > 100 else x)\n",
    "dffinal['Nombre de travailleurs ayant bénéficié dispositif UAAT'] = dffinal['Nombre de travailleurs ayant bénéficié dispositif UAAT'].apply(lambda x: np.nan if x > 9989 else x)\n",
    "dffinal['Taux de contribution Opco santé ou ANFH'] = dffinal['Taux de contribution Opco santé ou ANFH'].apply(lambda x: np.nan if x > 100 else x)\n",
    "dffinal['Nombre de travailleurs sans utilisation CPF'] = dffinal['Nombre de travailleurs sans utilisation CPF'].apply(lambda x: np.nan if x > 9989 else x)\n",
    "dffinal['Nombre de travailleurs ayant bénéficié formation par salariés ESAT'] = dffinal['Nombre de travailleurs ayant bénéficié formation par salariés ESAT'].apply(lambda x: np.nan if x > 9989 else x)\n",
    "dffinal['Nombre de travailleurs ayant bénéficié formation auto sensibilisation'] = dffinal['Nombre de travailleurs ayant bénéficié formation auto sensibilisation'].apply(lambda x: np.nan if x > 9989 else x)\n",
    "dffinal['Montant moyen prime interessement des travailleurs'] = dffinal['Montant moyen prime interessement des travailleurs'].apply(lambda x: np.nan if x > 9989 else x)\n",
    "dffinal['Montant moyen PPV'] = dffinal['Montant moyen PPV'].apply(lambda x: np.nan if x > 9989 else x)\n",
    "dffinal['Pourcentage de rémunération du travailleur pris en charge par ESAT'] = dffinal['Pourcentage de rémunération du travailleur pris en charge par ESAT'].apply(lambda x: np.nan if x > 100 else x)\n",
    "dffinal['Pourcentage financement complémentaire santé ESAT'] = dffinal['Pourcentage financement complémentaire santé ESAT'].apply(lambda x: np.nan if x > 100 else x)\n",
    "\n"
   ]
  },
  {
   "cell_type": "code",
   "execution_count": 6,
   "id": "94afaf06",
   "metadata": {},
   "outputs": [
    {
     "name": "stdout",
     "output_type": "stream",
     "text": [
      "Index(['Prénom', 'Nom', 'Email', 'Fonction', 'ESAT', 'SIRET', 'FINESS',\n",
      "       'Organisme gestionnaire', 'ESAT public', 'Region', 'Département',\n",
      "       'Nombre de salariés en droit commun',\n",
      "       'Nombre de travailleurs accompagnés', 'Age moyen des travailleurs',\n",
      "       'Ancienneté moyenne des travailleurs',\n",
      "       'Nombre de travailleurs en temps partiel', 'Places autorisées par ARS',\n",
      "       'Nombre de travailleurs ayant occupé un emploi en milieu ordinaire avant ESAT',\n",
      "       'Nombre de travailleurs étant en ESAT pour la 1ere fois',\n",
      "       'Nombre de travailleurs admis temporairement en remplacement',\n",
      "       'Nombre de travailleurs voulant sortir du milieu protégé',\n",
      "       'Nombre de travailleurs inscrits comme DE à France travail',\n",
      "       'Nombre de personnes accueillies dans le cadre de MISPE',\n",
      "       'Refus de PMSMP par des organismes du SPE',\n",
      "       'Nombre de travailleurs ayant effectué une PMSMP',\n",
      "       'Nombre de travailleurs ayant réalisé une prestation pour une entreprise',\n",
      "       'Nombre de travailleurs ayant réalisé une MAD',\n",
      "       'Activités hors les murs réalisées par les travailleurs',\n",
      "       'Pourcentage du temps de travail hors les murs',\n",
      "       'Nombre de travailleurs ayant cumulé entreprise adaptée et temps partiel ESAT',\n",
      "       'Nombre de travailleurs ayant cumulé  milieu ordinaire et temps partiel ESAT',\n",
      "       'Nombre de travailleurs partis pour entreprise adaptée',\n",
      "       'Nombre de travailleurs partis pour le public',\n",
      "       'Nombre de travailleurs partis pour le privé',\n",
      "       'Nombre de travailleurs partis pour association',\n",
      "       'Milieux dans lesquels sont les travailleurs partis',\n",
      "       'Nombre de travailleurs partis avec CDI',\n",
      "       'Nombre de travailleurs partis avec CDD',\n",
      "       'Nombre de travailleurs partis avec interim',\n",
      "       'Nombre de travailleurs partis avec contrat pro',\n",
      "       'Nombre de travailleurs partis avec contrat apprentissage',\n",
      "       'Type de contrat des travailleurs partis',\n",
      "       'Nombre de travailleurs réintégrés après emploi hors ESAT',\n",
      "       'Nombre de conventions appui',\n",
      "       'Nombre heures de soutien par travailleur', 'Contribution OPCO ou OPCA',\n",
      "       'Thématiques de formation',\n",
      "       'Actions conduite pour départ à la retraite',\n",
      "       'Nombre de travailleurs ayant bénéficié dispositif UAAT',\n",
      "       'Taux de contribution Opco santé ou ANFH',\n",
      "       'Types de formations dont ont benéficié les travailleurs pour developpement de compétences',\n",
      "       'Nombre de travailleurs ayant bénéficié de RAE ou RSFP',\n",
      "       'Suite de parcours après reconnaissance',\n",
      "       'Refus de financement OPCO Santé ou ANFH',\n",
      "       'Nombre de travailleurs sans utilisation CPF',\n",
      "       'Formation la plus choisie dans le cadre du CPF',\n",
      "       'Nombre de travailleurs ayant bénéficié formation par salariés ESAT',\n",
      "       'Type de formation ESAT',\n",
      "       'Mise en place formation auto sensilibisation',\n",
      "       'Nombre de travailleurs ayant bénéficié formation auto sensibilisation',\n",
      "       'Mise en place formation auto sensibilisation par un organisme de formation?',\n",
      "       'Mise en place carnet de parcours et compétence',\n",
      "       'Utilisation logiciel pour mise en place du carnet', 'Nom logiciel',\n",
      "       'Aide financiere pour la mise en place du carnet',\n",
      "       'Type aide financière pour carnet',\n",
      "       'Mise en place documents pour travailleurs en FALC', 'Délégué élu',\n",
      "       'Formation du délégué', 'Instance mixte QVT',\n",
      "       'Montant moyen prime interessement des travailleurs',\n",
      "       'Montant moyen PPV',\n",
      "       'Pourcentage de rémunération du travailleur pris en charge par ESAT',\n",
      "       'Prime activité pour travailleurs', 'Complémentaire santé',\n",
      "       'Pourcentage financement complémentaire santé ESAT',\n",
      "       'Cout annuel par travailleur contribution complementaire sante',\n",
      "       'Régime de prévoyance', 'Année commencement prévoyance',\n",
      "       'Nombre de travailleurs ayant travaillé un dimanche',\n",
      "       'Conventions partenariat',\n",
      "       'Nombre entreprises avec convention de partenariat',\n",
      "       'Nombre de conseillers insertion et inclusion', 'Montant du CA total',\n",
      "       'Budget commercial', 'Montant déficit commercial',\n",
      "       'Montant excédent commercial', 'Pourcentage du CA avec secteur public',\n",
      "       'Budget activité sociale', 'Excédent activité sociale',\n",
      "       'Déficit activité sociale',\n",
      "       'Montant investissement mise aux normes sécurité accessibilité',\n",
      "       'Montant investissement production', 'Montant soutien FATESAT',\n",
      "       'Montant soutien UE / fonds structurel', 'Commentaires'],\n",
      "      dtype='object')\n"
     ]
    }
   ],
   "source": [
    "dffinal.replace([999,'999'], np.nan, inplace = True)\n",
    "print(dffinal.columns)"
   ]
  },
  {
   "cell_type": "code",
   "execution_count": 7,
   "id": "3af2585b-28ae-45bf-90e6-1937149b3bde",
   "metadata": {},
   "outputs": [
    {
     "name": "stdout",
     "output_type": "stream",
     "text": [
      "Index(['Prénom', 'Nom', 'Email', 'Fonction', 'ESAT', 'SIRET', 'FINESS',\n",
      "       'Organisme gestionnaire', 'ESAT public', 'Region',\n",
      "       ...\n",
      "       'Montant excédent commercial', 'Pourcentage du CA avec secteur public',\n",
      "       'Budget activité sociale', 'Excédent activité sociale',\n",
      "       'Déficit activité sociale',\n",
      "       'Montant investissement mise aux normes sécurité accessibilité',\n",
      "       'Montant investissement production', 'Montant soutien FATESAT',\n",
      "       'Montant soutien UE / fonds structurel', 'Commentaires'],\n",
      "      dtype='object', length=117)\n"
     ]
    }
   ],
   "source": [
    "\n",
    "base_column = 'Nombre de travailleurs accompagnés'\n",
    "\n",
    "\n",
    "columns_to_calculate_percentage = [\n",
    "    'Nombre de travailleurs en temps partiel',\n",
    "    'Nombre de travailleurs ayant occupé un emploi en milieu ordinaire avant ESAT',\n",
    "    'Nombre de travailleurs étant en ESAT pour la 1ere fois',\n",
    "    'Nombre de travailleurs admis temporairement en remplacement',\n",
    "    'Nombre de travailleurs voulant sortir du milieu protégé',\n",
    "    'Nombre de travailleurs inscrits comme DE à France travail',\n",
    "    'Nombre de travailleurs ayant effectué une PMSMP',\n",
    "    'Nombre de travailleurs ayant réalisé une prestation pour une entreprise',\n",
    "    'Nombre de travailleurs ayant réalisé une MAD',\n",
    "    'Nombre de travailleurs ayant cumulé entreprise adaptée et temps partiel ESAT',\n",
    "    'Nombre de travailleurs ayant cumulé  milieu ordinaire et temps partiel ESAT',\n",
    "    'Nombre de travailleurs partis pour entreprise adaptée',\n",
    "    'Nombre de travailleurs partis pour le public',\n",
    "    'Nombre de travailleurs partis pour le privé',\n",
    "    'Nombre de travailleurs partis pour association',\n",
    "    'Nombre de travailleurs partis avec CDI',\n",
    "    'Nombre de travailleurs partis avec CDD',\n",
    "    'Nombre de travailleurs partis avec interim',\n",
    "    'Nombre de travailleurs partis avec contrat pro',\n",
    "    'Nombre de travailleurs partis avec contrat apprentissage',\n",
    "    'Nombre de travailleurs ayant bénéficié formation auto sensibilisation'\n",
    "]\n",
    "\n",
    "for col in columns_to_calculate_percentage:\n",
    "    \n",
    "    percentage_col = col.replace('Nombre', 'Pourcentage')\n",
    "    \n",
    "    dffinal[percentage_col] = (dffinal[col] / dffinal[base_column]) * 100\n",
    "    col_index = dffinal.columns.get_loc(col)\n",
    "    cols = dffinal.columns.tolist()\n",
    "    cols.insert(col_index + 1, cols.pop(cols.index(percentage_col)))\n",
    "    dffinal = dffinal[cols]\n"
   ]
  },
  {
   "cell_type": "code",
   "execution_count": 8,
   "id": "30d0ba2f-2f14-4066-b35b-c1085f66c69c",
   "metadata": {},
   "outputs": [],
   "source": [
    "\n",
    "dffinal.replace([np.inf, -np.inf], np.nan, inplace=True)"
   ]
  },
  {
   "cell_type": "code",
   "execution_count": 9,
   "id": "d1b91b83",
   "metadata": {},
   "outputs": [
    {
     "name": "stdout",
     "output_type": "stream",
     "text": [
      "True\n"
     ]
    },
    {
     "data": {
      "text/plain": [
       "913"
      ]
     },
     "execution_count": 9,
     "metadata": {},
     "output_type": "execute_result"
    }
   ],
   "source": [
    "\n",
    "dffinal.to_sql(\"Esat - Questionnaire 2024\",con=engine, if_exists=\"replace\",index=False)"
   ]
  },
  {
   "cell_type": "code",
   "execution_count": null,
   "id": "e09a64dc-1d87-406d-87eb-0c1e50be9464",
   "metadata": {},
   "outputs": [],
   "source": []
  },
  {
   "cell_type": "code",
   "execution_count": null,
   "id": "e732e52b-d26f-4135-b5b3-8ce968efbbe8",
   "metadata": {},
   "outputs": [],
   "source": []
  }
 ],
 "metadata": {
  "kernelspec": {
   "display_name": "Python 3 (ipykernel)",
   "language": "python",
   "name": "python3"
  },
  "language_info": {
   "codemirror_mode": {
    "name": "ipython",
    "version": 3
   },
   "file_extension": ".py",
   "mimetype": "text/x-python",
   "name": "python",
   "nbconvert_exporter": "python",
   "pygments_lexer": "ipython3",
   "version": "3.9.6"
  }
 },
 "nbformat": 4,
 "nbformat_minor": 5
}
